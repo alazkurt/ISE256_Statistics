{
 "cells": [
  {
   "cell_type": "code",
   "execution_count": 77,
   "metadata": {},
   "outputs": [],
   "source": [
    "import numpy as np\n",
    "import pandas as pd\n",
    "import scipy.stats as stats\n",
    "from scipy.stats import ttest_ind\n",
    "import scipy\n",
    "from matplotlib import pyplot\n",
    "import matplotlib.pyplot as plt"
   ]
  },
  {
   "cell_type": "code",
   "execution_count": 78,
   "metadata": {},
   "outputs": [],
   "source": [
    "#DataFrame oluşturduk\n",
    "df= pd.read_excel(\"Ise256.xlsx\")\n"
   ]
  },
  {
   "cell_type": "code",
   "execution_count": 79,
   "metadata": {},
   "outputs": [
    {
     "data": {
      "text/html": [
       "<div>\n",
       "<style scoped>\n",
       "    .dataframe tbody tr th:only-of-type {\n",
       "        vertical-align: middle;\n",
       "    }\n",
       "\n",
       "    .dataframe tbody tr th {\n",
       "        vertical-align: top;\n",
       "    }\n",
       "\n",
       "    .dataframe thead th {\n",
       "        text-align: right;\n",
       "    }\n",
       "</style>\n",
       "<table border=\"1\" class=\"dataframe\">\n",
       "  <thead>\n",
       "    <tr style=\"text-align: right;\">\n",
       "      <th></th>\n",
       "      <th>CODE</th>\n",
       "      <th>CBB</th>\n",
       "      <th>CBLGTH</th>\n",
       "      <th>CBWGT</th>\n",
       "      <th>CBMO</th>\n",
       "      <th>CBD</th>\n",
       "      <th>CBHR</th>\n",
       "      <th>CTHGHT</th>\n",
       "      <th>CTWGT</th>\n",
       "      <th>CTL</th>\n",
       "      <th>...</th>\n",
       "      <th>FBSM</th>\n",
       "      <th>FTHGHT</th>\n",
       "      <th>FTWGT</th>\n",
       "      <th>FTE</th>\n",
       "      <th>FTO</th>\n",
       "      <th>FTSM</th>\n",
       "      <th>FIB</th>\n",
       "      <th>FIT</th>\n",
       "      <th>FC</th>\n",
       "      <th>CBSEX</th>\n",
       "    </tr>\n",
       "  </thead>\n",
       "  <tbody>\n",
       "    <tr>\n",
       "      <th>0</th>\n",
       "      <td>1111</td>\n",
       "      <td>2</td>\n",
       "      <td>20.0</td>\n",
       "      <td>6.6</td>\n",
       "      <td>3</td>\n",
       "      <td>4</td>\n",
       "      <td>4</td>\n",
       "      <td>55.7</td>\n",
       "      <td>85</td>\n",
       "      <td>5</td>\n",
       "      <td>...</td>\n",
       "      <td>10</td>\n",
       "      <td>70.1</td>\n",
       "      <td>171</td>\n",
       "      <td>3</td>\n",
       "      <td>8</td>\n",
       "      <td>10</td>\n",
       "      <td>33</td>\n",
       "      <td>150</td>\n",
       "      <td>6</td>\n",
       "      <td>0</td>\n",
       "    </tr>\n",
       "    <tr>\n",
       "      <th>1</th>\n",
       "      <td>1112</td>\n",
       "      <td>2</td>\n",
       "      <td>20.0</td>\n",
       "      <td>6.4</td>\n",
       "      <td>5</td>\n",
       "      <td>7</td>\n",
       "      <td>13</td>\n",
       "      <td>48.9</td>\n",
       "      <td>59</td>\n",
       "      <td>3</td>\n",
       "      <td>...</td>\n",
       "      <td>11</td>\n",
       "      <td>65.0</td>\n",
       "      <td>130</td>\n",
       "      <td>1</td>\n",
       "      <td>6</td>\n",
       "      <td>20</td>\n",
       "      <td>40</td>\n",
       "      <td>175</td>\n",
       "      <td>6</td>\n",
       "      <td>0</td>\n",
       "    </tr>\n",
       "    <tr>\n",
       "      <th>2</th>\n",
       "      <td>1113</td>\n",
       "      <td>7</td>\n",
       "      <td>19.8</td>\n",
       "      <td>6.1</td>\n",
       "      <td>6</td>\n",
       "      <td>2</td>\n",
       "      <td>4</td>\n",
       "      <td>54.9</td>\n",
       "      <td>70</td>\n",
       "      <td>2</td>\n",
       "      <td>...</td>\n",
       "      <td>20</td>\n",
       "      <td>70.0</td>\n",
       "      <td>175</td>\n",
       "      <td>2</td>\n",
       "      <td>6</td>\n",
       "      <td>0</td>\n",
       "      <td>44</td>\n",
       "      <td>116</td>\n",
       "      <td>1</td>\n",
       "      <td>0</td>\n",
       "    </tr>\n",
       "    <tr>\n",
       "      <th>3</th>\n",
       "      <td>1114</td>\n",
       "      <td>6</td>\n",
       "      <td>19.5</td>\n",
       "      <td>7.0</td>\n",
       "      <td>10</td>\n",
       "      <td>2</td>\n",
       "      <td>19</td>\n",
       "      <td>53.6</td>\n",
       "      <td>88</td>\n",
       "      <td>3</td>\n",
       "      <td>...</td>\n",
       "      <td>20</td>\n",
       "      <td>71.8</td>\n",
       "      <td>196</td>\n",
       "      <td>3</td>\n",
       "      <td>2</td>\n",
       "      <td>-1</td>\n",
       "      <td>42</td>\n",
       "      <td>112</td>\n",
       "      <td>4</td>\n",
       "      <td>0</td>\n",
       "    </tr>\n",
       "    <tr>\n",
       "      <th>4</th>\n",
       "      <td>1115</td>\n",
       "      <td>5</td>\n",
       "      <td>19.5</td>\n",
       "      <td>7.9</td>\n",
       "      <td>8</td>\n",
       "      <td>7</td>\n",
       "      <td>2</td>\n",
       "      <td>53.4</td>\n",
       "      <td>68</td>\n",
       "      <td>1</td>\n",
       "      <td>...</td>\n",
       "      <td>-1</td>\n",
       "      <td>68.0</td>\n",
       "      <td>163</td>\n",
       "      <td>2</td>\n",
       "      <td>6</td>\n",
       "      <td>-1</td>\n",
       "      <td>50</td>\n",
       "      <td>129</td>\n",
       "      <td>4</td>\n",
       "      <td>0</td>\n",
       "    </tr>\n",
       "  </tbody>\n",
       "</table>\n",
       "<p>5 rows × 34 columns</p>\n",
       "</div>"
      ],
      "text/plain": [
       "   CODE  CBB  CBLGTH  CBWGT  CBMO  CBD  CBHR  CTHGHT  CTWGT  CTL  ...  FBSM   \n",
       "0  1111    2    20.0    6.6     3    4     4    55.7     85    5  ...    10  \\\n",
       "1  1112    2    20.0    6.4     5    7    13    48.9     59    3  ...    11   \n",
       "2  1113    7    19.8    6.1     6    2     4    54.9     70    2  ...    20   \n",
       "3  1114    6    19.5    7.0    10    2    19    53.6     88    3  ...    20   \n",
       "4  1115    5    19.5    7.9     8    7     2    53.4     68    1  ...    -1   \n",
       "\n",
       "   FTHGHT  FTWGT  FTE  FTO  FTSM  FIB  FIT  FC  CBSEX  \n",
       "0    70.1    171    3    8    10   33  150   6      0  \n",
       "1    65.0    130    1    6    20   40  175   6      0  \n",
       "2    70.0    175    2    6     0   44  116   1      0  \n",
       "3    71.8    196    3    2    -1   42  112   4      0  \n",
       "4    68.0    163    2    6    -1   50  129   4      0  \n",
       "\n",
       "[5 rows x 34 columns]"
      ]
     },
     "execution_count": 79,
     "metadata": {},
     "output_type": "execute_result"
    }
   ],
   "source": [
    "df.head()"
   ]
  },
  {
   "cell_type": "code",
   "execution_count": 95,
   "metadata": {},
   "outputs": [],
   "source": [
    "#Erkek ve kızlar 650 de simetrik ayrıldığı için 550 den 750 bir DataFrame oluştruk\n",
    "df1=df[550:750]"
   ]
  },
  {
   "attachments": {},
   "cell_type": "markdown",
   "metadata": {},
   "source": [
    "**Q1**"
   ]
  },
  {
   "attachments": {},
   "cell_type": "markdown",
   "metadata": {},
   "source": [
    "Compute the mean, median and mode of the birth weights of babies."
   ]
  },
  {
   "cell_type": "code",
   "execution_count": 81,
   "metadata": {},
   "outputs": [
    {
     "data": {
      "text/plain": [
       "73.045"
      ]
     },
     "execution_count": 81,
     "metadata": {},
     "output_type": "execute_result"
    }
   ],
   "source": [
    "#mean\n",
    "df1[\"CTWGT\"].mean()"
   ]
  },
  {
   "cell_type": "code",
   "execution_count": 82,
   "metadata": {},
   "outputs": [
    {
     "data": {
      "text/plain": [
       "7.55"
      ]
     },
     "execution_count": 82,
     "metadata": {},
     "output_type": "execute_result"
    }
   ],
   "source": [
    "#median\n",
    "df1[\"CBWGT\"].median()"
   ]
  },
  {
   "cell_type": "code",
   "execution_count": 83,
   "metadata": {},
   "outputs": [
    {
     "data": {
      "text/plain": [
       "0    6.9\n",
       "1    7.6\n",
       "Name: CBWGT, dtype: float64"
      ]
     },
     "execution_count": 83,
     "metadata": {},
     "output_type": "execute_result"
    }
   ],
   "source": [
    "df1[\"CBWGT\"].mode()"
   ]
  },
  {
   "attachments": {},
   "cell_type": "markdown",
   "metadata": {},
   "source": [
    "Make a histogram of birth weights of girls and boys and check if there is a significant difference between\n",
    "them."
   ]
  },
  {
   "cell_type": "code",
   "execution_count": 84,
   "metadata": {},
   "outputs": [],
   "source": [
    "weight_data = df1['CBWGT']\n",
    "boys_weights = weight_data[df1['CBSEX'] == 1]\n",
    "girls_weights = weight_data[df1['CBSEX'] == 0]"
   ]
  },
  {
   "cell_type": "code",
   "execution_count": 85,
   "metadata": {},
   "outputs": [
    {
     "data": {
      "image/png": "[encoded data removed]",
      "text/plain": [
       "<Figure size 640x480 with 1 Axes>"
      ]
     },
     "metadata": {},
     "output_type": "display_data"
    }
   ],
   "source": [
    "#Histogram\n",
    "bins = np.linspace(0, 15, 100)\n",
    "\n",
    "pyplot.hist(boys_weights, bins, alpha=0.5, label='Boys')\n",
    "pyplot.hist(girls_weights, bins, alpha=0.5, label='Girls')\n",
    "pyplot.legend(loc='upper right')\n",
    "pyplot.show()"
   ]
  },
  {
   "attachments": {},
   "cell_type": "markdown",
   "metadata": {},
   "source": [
    "It is claimed that the birth weights of boys are greater than the birth weights of girls. Test this hypothesis for a\n",
    "significance level 0.05."
   ]
  },
  {
   "cell_type": "code",
   "execution_count": 86,
   "metadata": {},
   "outputs": [
    {
     "name": "stdout",
     "output_type": "stream",
     "text": [
      "Fail to reject null hypothesis - There is no evidence that boys' birth weights are greater than girls' birth weights.\n",
      "p value:0.36443078232762494 and our confidance interval is 0.05 so we fail to reject \n"
     ]
    }
   ],
   "source": [
    "#H0:boys.t_test=girls.t_test\n",
    "#H1:boys.t_test>girls.t_test\n",
    "# Performing the two-sample t-test\n",
    "t_statistic, p_value = stats.ttest_ind(boys_weights, girls_weights, alternative='greater')\n",
    "\n",
    "# Comparing the p-value with the significance level\n",
    "alpha = 0.05\n",
    "if p_value < alpha:\n",
    "    print(\"Reject null hypothesis - There is evidence that boys' birth weights are greater than girls' birth weights.\")\n",
    "else:\n",
    "    print(\"Fail to reject null hypothesis - There is no evidence that boys' birth weights are greater than girls' birth weights.\")\n",
    "    print(f\"p value:{p_value} and our confidance interval is 0.05 so we fail to reject \")\n",
    "    "
   ]
  },
  {
   "attachments": {},
   "cell_type": "markdown",
   "metadata": {},
   "source": [
    "Moreover, the varicance of birth weights is claimed to be equal to one. Check this claim by assuming the\n",
    "births weights have a normal distribution."
   ]
  },
  {
   "cell_type": "code",
   "execution_count": 87,
   "metadata": {},
   "outputs": [],
   "source": [
    "\n",
    "x=np.array(boys_weights)\n",
    "y=np.array(girls_weights)\n",
    "\n",
    "#F test için fonkisyon tanımlıyorum\n",
    "def f_test(group1, group2):\n",
    "    f = np.var(group1, ddof=1)/np.var(group2, ddof=1)\n",
    "    nun = x.size-1\n",
    "    dun = y.size-1\n",
    "    p_value = 1-scipy.stats.f.cdf(f, nun, dun)\n",
    "    return f, p_value\n",
    "f_test_stat,p_value_f=f_test(boys_weights,girls_weights)"
   ]
  },
  {
   "cell_type": "code",
   "execution_count": 88,
   "metadata": {},
   "outputs": [
    {
     "name": "stdout",
     "output_type": "stream",
     "text": [
      "0.8915762100100681\n",
      "0.715935417710226\n"
     ]
    }
   ],
   "source": [
    "print(f_test_stat)\n",
    "print(p_value_f)"
   ]
  },
  {
   "attachments": {},
   "cell_type": "markdown",
   "metadata": {},
   "source": [
    "**Q2**\n"
   ]
  },
  {
   "attachments": {},
   "cell_type": "markdown",
   "metadata": {},
   "source": [
    "It is a well known hypothesis that the smoking of the mother during pregnancy may influence the health of the\n",
    "baby. As a subquestion to this main question we want to investigate the question, if the smoking habit of the\n",
    "mother is influencing the birthweight of the baby. We select randomly 50 babies of non-smoker mothers\n",
    "(MBSM -1 or 0), 50 of heavy smoking mothers (more than 5 cigaretts per day, MBSM > 5).\n"
   ]
  },
  {
   "attachments": {},
   "cell_type": "markdown",
   "metadata": {},
   "source": [
    " First make a box-plot and try to intepret what you see. Are there differences in the birthweigth? Are they\n",
    "large?"
   ]
  },
  {
   "cell_type": "code",
   "execution_count": 89,
   "metadata": {},
   "outputs": [],
   "source": [
    "mbsm_data=df1[\"MBSM\"]"
   ]
  },
  {
   "cell_type": "code",
   "execution_count": 90,
   "metadata": {},
   "outputs": [],
   "source": [
    "non_smoker_data=mbsm_data[df1[\"MBSM\"]<=0]\n",
    "smoker_data=mbsm_data[df1[\"MBSM\"]>5]\n",
    "\n",
    "\n",
    "boys_non_smoker = non_smoker_data[df1['CBSEX'] == 1]\n",
    "girls_non_smoker = non_smoker_data[df1['CBSEX'] == 0]\n",
    "\n",
    "boys_smoker = smoker_data[df1['CBSEX'] == 1]\n",
    "girls_smoker = smoker_data[df1['CBSEX'] == 0]\n",
    "\n",
    "    "
   ]
  },
  {
   "cell_type": "code",
   "execution_count": 91,
   "metadata": {},
   "outputs": [
    {
     "data": {
      "image/png": "[encoded data removed]",
      "text/plain": [
       "<Figure size 640x480 with 1 Axes>"
      ]
     },
     "metadata": {},
     "output_type": "display_data"
    }
   ],
   "source": [
    "\n",
    "\n",
    "# Assuming 'df' is your DataFrame with the birth weight data\n",
    "# and 'MBSM' is the column indicating the smoking habit of the mother (1 or 0 for non-smokers, >5 for heavy smokers)\n",
    "weight_data = df1['CBWGT']\n",
    "smoking_habit = df1['MBSM']\n",
    "\n",
    "# Separating the birth weights based on the smoking habit of the mother\n",
    "non_smoker_weights = weight_data[smoking_habit.isin([0, 1])].sample(n=38, replace=False)\n",
    "heavy_smoker_weights = weight_data[smoking_habit > 5].sample(n=50, replace=False)\n",
    "\n",
    "# Creating a box plot\n",
    "plt.boxplot([non_smoker_weights, heavy_smoker_weights], labels=['Non-Smoker Mothers', 'Heavy Smoker Mothers'])\n",
    "plt.xlabel('Mother Smoking Habit')\n",
    "plt.ylabel('Birth Weight')\n",
    "plt.title('Comparison of Birth Weight based on Mother Smoking Habit')\n",
    "plt.show()\n"
   ]
  },
  {
   "attachments": {},
   "cell_type": "markdown",
   "metadata": {},
   "source": [
    "Make an appropriate test that you can also see if the differences between non-smokers and heavy-smokers\n",
    "are significant. Interpret all meaninfull P-Values you get in the output (also state their H0)."
   ]
  },
  {
   "attachments": {},
   "cell_type": "markdown",
   "metadata": {},
   "source": []
  },
  {
   "attachments": {},
   "cell_type": "markdown",
   "metadata": {},
   "source": [
    "**Q3**\n"
   ]
  },
  {
   "attachments": {},
   "cell_type": "markdown",
   "metadata": {},
   "source": [
    "We are interested to forecast the variable CTHGHT (Height of the child at the age of 12) by using any of the other\n",
    "variables except those starting with CT. Of course we want to have a simple model. Start with looking at the\n",
    "description of the variables and consider which one should help to forecast CTHGHT."
   ]
  },
  {
   "attachments": {},
   "cell_type": "markdown",
   "metadata": {},
   "source": [
    "y=ß0+ß1*x+e  y=CTHGHT x=CTWGT\n"
   ]
  },
  {
   "attachments": {},
   "cell_type": "markdown",
   "metadata": {},
   "source": [
    "We think CTWGT is ß1\n"
   ]
  },
  {
   "cell_type": "code",
   "execution_count": 92,
   "metadata": {},
   "outputs": [],
   "source": [
    "import numpy as np\n",
    "from sklearn.linear_model import LinearRegression"
   ]
  },
  {
   "cell_type": "code",
   "execution_count": 97,
   "metadata": {},
   "outputs": [],
   "source": [
    "X=df1[\"CTHGHT\"]"
   ]
  },
  {
   "cell_type": "code",
   "execution_count": 109,
   "metadata": {},
   "outputs": [],
   "source": [
    "y=np.array(X)"
   ]
  },
  {
   "cell_type": "code",
   "execution_count": 110,
   "metadata": {},
   "outputs": [
    {
     "data": {
      "text/plain": [
       "array([56.6, 51.6, 53.4, 57.4, 54.6, 52.4, 58.9, 57.2, 55.5, 51.1, 54. ,\n",
       "       54.9, 50.1, 57.3, 55.2, 52.8, 50.6, 48.7, 53.9, 52.6, 51.9, 49.6,\n",
       "       51.2, 56.5, 57.4, 54.3, 54.4, 52.8, 57.6, 54.8, 58.4, 58.5, 51.1,\n",
       "       54.1, 51.1, 55.3, 52.2, 55.5, 57.2, 56. , 53.9, 51.8, 56.7, 53.2,\n",
       "       47. , 55.2, 50.4, 52.3, 54.8, 51.3, 50.7, 54.4, 54.5, 58.1, 54. ,\n",
       "       57.4, 56.2, 55.4, 57. , 54.4, 55.9, 52.8, 53.9, 50.4, 53.9, 52. ,\n",
       "       53.9, 49.6, 54.2, 49.3, 53.1, 49.6, 51.6, 55.1, 55.6, 56.4, 56.5,\n",
       "       55.3, 53.7, 54.9, 54.4, 56.7, 52.6, 53.4, 54.1, 53.9, 52.6, 50.5,\n",
       "       56.1, 54.1, 54.6, 53.6, 56.3, 59.2, 49.9, 55.9, 47.8, 52. , 54.7,\n",
       "       54.3, 52.4, 50.9, 51.1, 55.1, 50.8, 51.3, 54.9, 53. , 52.3, 55.1,\n",
       "       55.5, 54.4, 56.1, 56.9, 50.2, 51.1, 52. , 49.4, 55.1, 51.3, 53.2,\n",
       "       56.4, 55.9, 55.4, 49.3, 54. , 53.8, 52.5, 53.4, 54.1, 51.8, 51.1,\n",
       "       53.3, 53.6, 52.5, 50.1, 52.9, 56.1, 53.1, 50.5, 53.1, 52.3, 51.4,\n",
       "       50.4, 54.3, 51.4, 55.7, 57.6, 51.7, 52.8, 55.9, 58.4, 50.9, 54.9,\n",
       "       56.3, 54.8, 58.9, 56.4, 53.5, 51.3, 53.2, 52.2, 54.9, 55. , 56.3,\n",
       "       52.1, 54.9, 51.4, 51.6, 57.4, 53.3, 50.4, 48.6, 53.6, 56.1, 53.9,\n",
       "       53.1, 56.1, 55.6, 51.1, 54.1, 55.3, 55. , 52.4, 57.4, 50.9, 53.1,\n",
       "       50.5, 53.8, 49. , 53.8, 56.9, 50.7, 53.1, 53.8, 54.2, 53.8, 52.9,\n",
       "       51.4, 56.8])"
      ]
     },
     "execution_count": 110,
     "metadata": {},
     "output_type": "execute_result"
    }
   ],
   "source": [
    "y"
   ]
  },
  {
   "cell_type": "code",
   "execution_count": 111,
   "metadata": {},
   "outputs": [],
   "source": [
    "x=np.array(df1[\"CTWGT\"])"
   ]
  },
  {
   "cell_type": "code",
   "execution_count": 112,
   "metadata": {},
   "outputs": [
    {
     "data": {
      "text/plain": [
       "array([ 84,  54, 106, 108,  67,  73,  84,  92,  73,  89,  89,  76,  58,\n",
       "        80,  78,  72,  57,  56,  75,  68,  70,  64,  64,  81,  84,  98,\n",
       "        73,  99,  98,  61,  98,  82,  66,  66,  59, 113,  60,  63,  88,\n",
       "        69,  58,  64,  78,  55,  45,  76,  53,  70, 101,  70,  56,  72,\n",
       "        60,  93,  64,  96,  78,  88,  89,  68,  79,  82,  91,  59,  77,\n",
       "        75,  67,  50,  78,  56,  74,  56,  56,  94, 130,  74,  77, 101,\n",
       "        69,  76,  76,  90,  65,  78,  70,  94,  72,  58,  82, 116,  68,\n",
       "        66,  77, 111,  55,  85,  55,  66,  94,  89,  66,  59,  56,  63,\n",
       "        59,  63,  86,  68,  67,  61,  66,  73,  72,  88,  58,  54,  68,\n",
       "        54,  74,  62,  71,  84,  78,  72,  55,  70,  70,  68,  70,  68,\n",
       "        59,  52,  85,  62,  71,  58,  87,  67,  56,  60,  71,  60,  58,\n",
       "        57,  70,  70,  86,  80,  64,  78,  81,  86,  64,  82,  90,  67,\n",
       "        82,  96,  68,  60,  66,  72,  75,  70,  96,  69,  77,  61,  60,\n",
       "        84,  69,  67,  60,  73,  72,  64,  70,  89,  70,  56,  64,  84,\n",
       "        73,  60,  80,  66,  76,  60,  63,  60,  71,  86,  63,  64,  68,\n",
       "        64,  72,  60,  76, 112], dtype=int64)"
      ]
     },
     "execution_count": 112,
     "metadata": {},
     "output_type": "execute_result"
    }
   ],
   "source": [
    "x"
   ]
  },
  {
   "cell_type": "code",
   "execution_count": 113,
   "metadata": {},
   "outputs": [],
   "source": [
    "model=LinearRegression()"
   ]
  },
  {
   "cell_type": "code",
   "execution_count": 115,
   "metadata": {},
   "outputs": [
    {
     "data": {
      "text/html": [
       "<style>#sk-container-id-1 {color: black;background-color: white;}#sk-container-id-1 pre{padding: 0;}#sk-container-id-1 div.sk-toggleable {background-color: white;}#sk-container-id-1 label.sk-toggleable__label {cursor: pointer;display: block;width: 100%;margin-bottom: 0;padding: 0.3em;box-sizing: border-box;text-align: center;}#sk-container-id-1 label.sk-toggleable__label-arrow:before {content: \"▸\";float: left;margin-right: 0.25em;color: #696969;}#sk-container-id-1 label.sk-toggleable__label-arrow:hover:before {color: black;}#sk-container-id-1 div.sk-estimator:hover label.sk-toggleable__label-arrow:before {color: black;}#sk-container-id-1 div.sk-toggleable__content {max-height: 0;max-width: 0;overflow: hidden;text-align: left;background-color: #f0f8ff;}#sk-container-id-1 div.sk-toggleable__content pre {margin: 0.2em;color: black;border-radius: 0.25em;background-color: #f0f8ff;}#sk-container-id-1 input.sk-toggleable__control:checked~div.sk-toggleable__content {max-height: 200px;max-width: 100%;overflow: auto;}#sk-container-id-1 input.sk-toggleable__control:checked~label.sk-toggleable__label-arrow:before {content: \"▾\";}#sk-container-id-1 div.sk-estimator input.sk-toggleable__control:checked~label.sk-toggleable__label {background-color: #d4ebff;}#sk-container-id-1 div.sk-label input.sk-toggleable__control:checked~label.sk-toggleable__label {background-color: #d4ebff;}#sk-container-id-1 input.sk-hidden--visually {border: 0;clip: rect(1px 1px 1px 1px);clip: rect(1px, 1px, 1px, 1px);height: 1px;margin: -1px;overflow: hidden;padding: 0;position: absolute;width: 1px;}#sk-container-id-1 div.sk-estimator {font-family: monospace;background-color: #f0f8ff;border: 1px dotted black;border-radius: 0.25em;box-sizing: border-box;margin-bottom: 0.5em;}#sk-container-id-1 div.sk-estimator:hover {background-color: #d4ebff;}#sk-container-id-1 div.sk-parallel-item::after {content: \"\";width: 100%;border-bottom: 1px solid gray;flex-grow: 1;}#sk-container-id-1 div.sk-label:hover label.sk-toggleable__label {background-color: #d4ebff;}#sk-container-id-1 div.sk-serial::before {content: \"\";position: absolute;border-left: 1px solid gray;box-sizing: border-box;top: 0;bottom: 0;left: 50%;z-index: 0;}#sk-container-id-1 div.sk-serial {display: flex;flex-direction: column;align-items: center;background-color: white;padding-right: 0.2em;padding-left: 0.2em;position: relative;}#sk-container-id-1 div.sk-item {position: relative;z-index: 1;}#sk-container-id-1 div.sk-parallel {display: flex;align-items: stretch;justify-content: center;background-color: white;position: relative;}#sk-container-id-1 div.sk-item::before, #sk-container-id-1 div.sk-parallel-item::before {content: \"\";position: absolute;border-left: 1px solid gray;box-sizing: border-box;top: 0;bottom: 0;left: 50%;z-index: -1;}#sk-container-id-1 div.sk-parallel-item {display: flex;flex-direction: column;z-index: 1;position: relative;background-color: white;}#sk-container-id-1 div.sk-parallel-item:first-child::after {align-self: flex-end;width: 50%;}#sk-container-id-1 div.sk-parallel-item:last-child::after {align-self: flex-start;width: 50%;}#sk-container-id-1 div.sk-parallel-item:only-child::after {width: 0;}#sk-container-id-1 div.sk-dashed-wrapped {border: 1px dashed gray;margin: 0 0.4em 0.5em 0.4em;box-sizing: border-box;padding-bottom: 0.4em;background-color: white;}#sk-container-id-1 div.sk-label label {font-family: monospace;font-weight: bold;display: inline-block;line-height: 1.2em;}#sk-container-id-1 div.sk-label-container {text-align: center;}#sk-container-id-1 div.sk-container {/* jupyter's `normalize.less` sets `[hidden] { display: none; }` but bootstrap.min.css set `[hidden] { display: none !important; }` so we also need the `!important` here to be able to override the default hidden behavior on the sphinx rendered scikit-learn.org. See: https://github.com/scikit-learn/scikit-learn/issues/21755 */display: inline-block !important;position: relative;}#sk-container-id-1 div.sk-text-repr-fallback {display: none;}</style><div id=\"sk-container-id-1\" class=\"sk-top-container\"><div class=\"sk-text-repr-fallback\"><pre>LinearRegression()</pre><b>In a Jupyter environment, please rerun this cell to show the HTML representation or trust the notebook. <br />On GitHub, the HTML representation is unable to render, please try loading this page with nbviewer.org.</b></div><div class=\"sk-container\" hidden><div class=\"sk-item\"><div class=\"sk-estimator sk-toggleable\"><input class=\"sk-toggleable__control sk-hidden--visually\" id=\"sk-estimator-id-1\" type=\"checkbox\" checked><label for=\"sk-estimator-id-1\" class=\"sk-toggleable__label sk-toggleable__label-arrow\">LinearRegression</label><div class=\"sk-toggleable__content\"><pre>LinearRegression()</pre></div></div></div></div></div>"
      ],
      "text/plain": [
       "LinearRegression()"
      ]
     },
     "execution_count": 115,
     "metadata": {},
     "output_type": "execute_result"
    }
   ],
   "source": [
    "model.fit(x.reshape(-1, 1), y)"
   ]
  },
  {
   "cell_type": "code",
   "execution_count": 118,
   "metadata": {},
   "outputs": [
    {
     "name": "stdout",
     "output_type": "stream",
     "text": [
      "[54.95106514]\n"
     ]
    }
   ],
   "source": [
    "print(model.predict([[84]]))"
   ]
  },
  {
   "attachments": {},
   "cell_type": "markdown",
   "metadata": {},
   "source": []
  }
 ],
 "metadata": {
  "kernelspec": {
   "display_name": "Python 3",
   "language": "python",
   "name": "python3"
  },
  "language_info": {
   "codemirror_mode": {
    "name": "ipython",
    "version": 3
   },
   "file_extension": ".py",
   "mimetype": "text/x-python",
   "name": "python",
   "nbconvert_exporter": "python",
   "pygments_lexer": "ipython3",
   "version": "3.10.11"
  },
  "orig_nbformat": 4
 },
 "nbformat": 4,
 "nbformat_minor": 2
}
